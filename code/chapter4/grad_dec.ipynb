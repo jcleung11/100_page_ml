{
 "cells": [
  {
   "cell_type": "markdown",
   "metadata": {},
   "source": [
    "# Linear Regression - home brew vs scikit-learn"
   ]
  },
  {
   "cell_type": "code",
   "execution_count": 4,
   "metadata": {},
   "outputs": [],
   "source": [
    "import pandas as pd\n",
    "import numpy as np\n",
    "import matplotlib.pyplot as plt  \n",
    "%matplotlib inline\n",
    "\n",
    "from sklearn.linear_model import LinearRegression\n",
    "from sklearn.model_selection import train_test_split  \n",
    "from sklearn import metrics "
   ]
  },
  {
   "cell_type": "code",
   "execution_count": 8,
   "metadata": {},
   "outputs": [],
   "source": [
    "data = pd.read_csv('../../data/Advertising.csv')\n",
    "data['total_spend'] = (data['TV'] + data['radio'] + data['newspaper'])/10 #scale total_spend to sales"
   ]
  },
  {
   "cell_type": "code",
   "execution_count": 10,
   "metadata": {},
   "outputs": [
    {
     "name": "stdout",
     "output_type": "stream",
     "text": [
      "     Unnamed: 0     TV  radio  newspaper  sales  total_spend\n",
      "0             1  230.1   37.8       69.2   22.1        33.71\n",
      "1             2   44.5   39.3       45.1   10.4        12.89\n",
      "2             3   17.2   45.9       69.3    9.3        13.24\n",
      "3             4  151.5   41.3       58.5   18.5        25.13\n",
      "4             5  180.8   10.8       58.4   12.9        25.00\n",
      "..          ...    ...    ...        ...    ...          ...\n",
      "195         196   38.2    3.7       13.8    7.6         5.57\n",
      "196         197   94.2    4.9        8.1    9.7        10.72\n",
      "197         198  177.0    9.3        6.4   12.8        19.27\n",
      "198         199  283.6   42.0       66.2   25.5        39.18\n",
      "199         200  232.1    8.6        8.7   13.4        24.94\n",
      "\n",
      "[200 rows x 6 columns]\n"
     ]
    }
   ],
   "source": [
    "print(data)"
   ]
  },
  {
   "cell_type": "code",
   "execution_count": 11,
   "metadata": {},
   "outputs": [
    {
     "data": {
      "text/html": [
       "<div>\n",
       "<style scoped>\n",
       "    .dataframe tbody tr th:only-of-type {\n",
       "        vertical-align: middle;\n",
       "    }\n",
       "\n",
       "    .dataframe tbody tr th {\n",
       "        vertical-align: top;\n",
       "    }\n",
       "\n",
       "    .dataframe thead th {\n",
       "        text-align: right;\n",
       "    }\n",
       "</style>\n",
       "<table border=\"1\" class=\"dataframe\">\n",
       "  <thead>\n",
       "    <tr style=\"text-align: right;\">\n",
       "      <th></th>\n",
       "      <th>Unnamed: 0</th>\n",
       "      <th>TV</th>\n",
       "      <th>radio</th>\n",
       "      <th>newspaper</th>\n",
       "      <th>sales</th>\n",
       "      <th>total_spend</th>\n",
       "    </tr>\n",
       "  </thead>\n",
       "  <tbody>\n",
       "    <tr>\n",
       "      <td>0</td>\n",
       "      <td>1</td>\n",
       "      <td>230.1</td>\n",
       "      <td>37.8</td>\n",
       "      <td>69.2</td>\n",
       "      <td>22.1</td>\n",
       "      <td>33.71</td>\n",
       "    </tr>\n",
       "    <tr>\n",
       "      <td>1</td>\n",
       "      <td>2</td>\n",
       "      <td>44.5</td>\n",
       "      <td>39.3</td>\n",
       "      <td>45.1</td>\n",
       "      <td>10.4</td>\n",
       "      <td>12.89</td>\n",
       "    </tr>\n",
       "    <tr>\n",
       "      <td>2</td>\n",
       "      <td>3</td>\n",
       "      <td>17.2</td>\n",
       "      <td>45.9</td>\n",
       "      <td>69.3</td>\n",
       "      <td>9.3</td>\n",
       "      <td>13.24</td>\n",
       "    </tr>\n",
       "    <tr>\n",
       "      <td>3</td>\n",
       "      <td>4</td>\n",
       "      <td>151.5</td>\n",
       "      <td>41.3</td>\n",
       "      <td>58.5</td>\n",
       "      <td>18.5</td>\n",
       "      <td>25.13</td>\n",
       "    </tr>\n",
       "    <tr>\n",
       "      <td>4</td>\n",
       "      <td>5</td>\n",
       "      <td>180.8</td>\n",
       "      <td>10.8</td>\n",
       "      <td>58.4</td>\n",
       "      <td>12.9</td>\n",
       "      <td>25.00</td>\n",
       "    </tr>\n",
       "  </tbody>\n",
       "</table>\n",
       "</div>"
      ],
      "text/plain": [
       "   Unnamed: 0     TV  radio  newspaper  sales  total_spend\n",
       "0           1  230.1   37.8       69.2   22.1        33.71\n",
       "1           2   44.5   39.3       45.1   10.4        12.89\n",
       "2           3   17.2   45.9       69.3    9.3        13.24\n",
       "3           4  151.5   41.3       58.5   18.5        25.13\n",
       "4           5  180.8   10.8       58.4   12.9        25.00"
      ]
     },
     "execution_count": 11,
     "metadata": {},
     "output_type": "execute_result"
    }
   ],
   "source": [
    "data.head()"
   ]
  },
  {
   "cell_type": "code",
   "execution_count": 12,
   "metadata": {},
   "outputs": [
    {
     "data": {
      "image/png": "[encoded data removed]",
      "text/plain": [
       "<Figure size 432x288 with 1 Axes>"
      ]
     },
     "metadata": {
      "needs_background": "light"
     },
     "output_type": "display_data"
    }
   ],
   "source": [
    "data.plot(x='total_spend', y='sales', style='o')  \n",
    "plt.title('total spend vs sales')  \n",
    "plt.xlabel('total spend')  \n",
    "plt.ylabel('sales')  \n",
    "plt.show()  "
   ]
  },
  {
   "cell_type": "markdown",
   "metadata": {},
   "source": [
    "## DIY approach"
   ]
  },
  {
   "cell_type": "code",
   "execution_count": 13,
   "metadata": {},
   "outputs": [],
   "source": [
    "# helper function to calculate loss\n",
    "def avg_loss(spendings, sales, w, b):\n",
    "    N = len(spendings)\n",
    "    total_error = 0.0\n",
    "    \n",
    "    for i in range(N):\n",
    "        total_error += (sales[i] - (w * spendings[i] + b))**2\n",
    "    \n",
    "    return total_error / float(N)"
   ]
  },
  {
   "cell_type": "code",
   "execution_count": 14,
   "metadata": {},
   "outputs": [],
   "source": [
    "def update_w_and_b(spendings, sales, w, b, alpha):\n",
    "    dl_dw = 0.0\n",
    "    dl_db = 0.0\n",
    "    N = len(spendings)\n",
    "    \n",
    "    for i in range(N):\n",
    "        dl_dw += -2 * spendings[i] * (sales[i] - (w * spendings[i] + b))\n",
    "        dl_db += -2 * (sales[i] - (w * spendings[i] + b))\n",
    "        \n",
    "    # update w and b\n",
    "    w = w - (1/float(N)) * dl_dw * alpha\n",
    "    b = b - (1/float(N)) * dl_db * alpha\n",
    "    \n",
    "    return w, b"
   ]
  },
  {
   "cell_type": "code",
   "execution_count": 15,
   "metadata": {},
   "outputs": [],
   "source": [
    "def train(spendings, sales, w, b, alpha, epochs):\n",
    "    for e in range(epochs):\n",
    "        w, b = update_w_and_b(spendings, sales, w, b, alpha)\n",
    "        \n",
    "        # log the progress\n",
    "        if e % 1000 == 0:\n",
    "            print('epoch:', e, 'loss: ', avg_loss(spendings, sales, w, b))\n",
    "            \n",
    "    return w, b"
   ]
  },
  {
   "cell_type": "code",
   "execution_count": 16,
   "metadata": {},
   "outputs": [],
   "source": [
    "def predict(x, w, b):\n",
    "    return w * x + b"
   ]
  },
  {
   "cell_type": "code",
   "execution_count": 17,
   "metadata": {},
   "outputs": [
    {
     "name": "stdout",
     "output_type": "stream",
     "text": [
      "epoch: 0 loss:  9.894417306428116\n",
      "epoch: 1000 loss:  8.239383043542533\n",
      "epoch: 2000 loss:  7.459002946874042\n",
      "epoch: 3000 loss:  7.0722420301112905\n",
      "epoch: 4000 loss:  6.880561069290071\n",
      "epoch: 5000 loss:  6.78556286975927\n",
      "epoch: 6000 loss:  6.73848120929894\n",
      "epoch: 7000 loss:  6.7151472644173476\n",
      "epoch: 8000 loss:  6.703582825559119\n",
      "epoch: 9000 loss:  6.697851422370157\n",
      "epoch: 10000 loss:  6.695010905599979\n",
      "epoch: 11000 loss:  6.693603128960358\n",
      "epoch: 12000 loss:  6.692905426666231\n",
      "epoch: 13000 loss:  6.692559641349493\n",
      "epoch: 14000 loss:  6.6923882681344695\n"
     ]
    }
   ],
   "source": [
    "w, b = train(data['total_spend'], data['sales'], 0.0, 0.0, 0.001, 15000)"
   ]
  },
  {
   "cell_type": "code",
   "execution_count": 18,
   "metadata": {},
   "outputs": [
    {
     "data": {
      "text/plain": [
       "15.440023160711576"
      ]
     },
     "execution_count": 18,
     "metadata": {},
     "output_type": "execute_result"
    }
   ],
   "source": [
    "x_new = 23.0\n",
    "y_new = predict(x_new, w, b)\n",
    "y_new"
   ]
  },
  {
   "cell_type": "code",
   "execution_count": 19,
   "metadata": {},
   "outputs": [
    {
     "data": {
      "text/html": [
       "<div>\n",
       "<style scoped>\n",
       "    .dataframe tbody tr th:only-of-type {\n",
       "        vertical-align: middle;\n",
       "    }\n",
       "\n",
       "    .dataframe tbody tr th {\n",
       "        vertical-align: top;\n",
       "    }\n",
       "\n",
       "    .dataframe thead th {\n",
       "        text-align: right;\n",
       "    }\n",
       "</style>\n",
       "<table border=\"1\" class=\"dataframe\">\n",
       "  <thead>\n",
       "    <tr style=\"text-align: right;\">\n",
       "      <th></th>\n",
       "      <th>Actual</th>\n",
       "      <th>Predicted</th>\n",
       "    </tr>\n",
       "  </thead>\n",
       "  <tbody>\n",
       "    <tr>\n",
       "      <td>0</td>\n",
       "      <td>22.1</td>\n",
       "      <td>20.664078</td>\n",
       "    </tr>\n",
       "    <tr>\n",
       "      <td>1</td>\n",
       "      <td>10.4</td>\n",
       "      <td>10.508632</td>\n",
       "    </tr>\n",
       "    <tr>\n",
       "      <td>2</td>\n",
       "      <td>9.3</td>\n",
       "      <td>10.679353</td>\n",
       "    </tr>\n",
       "    <tr>\n",
       "      <td>3</td>\n",
       "      <td>18.5</td>\n",
       "      <td>16.478981</td>\n",
       "    </tr>\n",
       "    <tr>\n",
       "      <td>4</td>\n",
       "      <td>12.9</td>\n",
       "      <td>16.415570</td>\n",
       "    </tr>\n",
       "  </tbody>\n",
       "</table>\n",
       "</div>"
      ],
      "text/plain": [
       "   Actual  Predicted\n",
       "0    22.1  20.664078\n",
       "1    10.4  10.508632\n",
       "2     9.3  10.679353\n",
       "3    18.5  16.478981\n",
       "4    12.9  16.415570"
      ]
     },
     "execution_count": 19,
     "metadata": {},
     "output_type": "execute_result"
    }
   ],
   "source": [
    "out = []\n",
    "for i in range(len(data)):\n",
    "    tmp = predict(data['total_spend'][i], w, b)\n",
    "    out.append(tmp)\n",
    "\n",
    "df = pd.DataFrame({'Actual': data['sales'], 'Predicted': out})  \n",
    "df.head()"
   ]
  },
  {
   "cell_type": "code",
   "execution_count": 20,
   "metadata": {},
   "outputs": [
    {
     "name": "stdout",
     "output_type": "stream",
     "text": [
      "Mean Absolute Error: 1.9503045740850404\n",
      "Mean Squared Error: 6.692303393174859\n",
      "Root Mean Squared Error: 2.5869486645805053\n"
     ]
    }
   ],
   "source": [
    "print('Mean Absolute Error:', metrics.mean_absolute_error(df.Actual, df.Predicted))  \n",
    "print('Mean Squared Error:', metrics.mean_squared_error(df.Actual, df.Predicted))  \n",
    "print('Root Mean Squared Error:', np.sqrt(metrics.mean_squared_error(df.Actual, df.Predicted))) "
   ]
  },
  {
   "cell_type": "code",
   "execution_count": 21,
   "metadata": {},
   "outputs": [
    {
     "data": {
      "image/png": "[encoded data removed]",
      "text/plain": [
       "<Figure size 432x288 with 1 Axes>"
      ]
     },
     "metadata": {
      "needs_background": "light"
     },
     "output_type": "display_data"
    }
   ],
   "source": [
    "df.plot(x='Predicted', y='Actual', style='o')  \n",
    "plt.title('Predicted vs Actual values')  \n",
    "plt.xlabel('Predicted')  \n",
    "plt.ylabel('Actual')  \n",
    "plt.show() "
   ]
  },
  {
   "cell_type": "markdown",
   "metadata": {},
   "source": [
    "---"
   ]
  },
  {
   "cell_type": "markdown",
   "metadata": {},
   "source": [
    "## Scikit-learn approach"
   ]
  },
  {
   "cell_type": "code",
   "execution_count": 48,
   "metadata": {},
   "outputs": [],
   "source": [
    "# prepare features and labels in a format suitable for scikit-learn\n",
    "X = data[['TV', 'radio', 'newspaper']]\n",
    "y = data['sales']"
   ]
  },
  {
   "cell_type": "code",
   "execution_count": 60,
   "metadata": {},
   "outputs": [],
   "source": [
    "X_train, X_test, y_train, y_test = train_test_split(X,y, test_size=0.2, random_state=1)  "
   ]
  },
  {
   "cell_type": "markdown",
   "metadata": {},
   "source": [
    "train_test_split splits a dataset to use a specified percentage of the dataset picked randomly as the training set and the rest as the test set; picks different datapoints based on random_state (different seed for random number generator)"
   ]
  },
  {
   "cell_type": "code",
   "execution_count": 61,
   "metadata": {},
   "outputs": [
    {
     "name": "stdout",
     "output_type": "stream",
     "text": [
      "        TV  radio  newspaper\n",
      "108   13.1    0.4       25.6\n",
      "107   90.4    0.3       23.2\n",
      "189   18.7   12.1       23.4\n",
      "14   204.1   32.9       46.0\n",
      "56     7.3   28.1       41.4\n",
      "..     ...    ...        ...\n",
      "133  219.8   33.5       45.1\n",
      "137  273.7   28.9       59.7\n",
      "72    26.8   33.0       19.3\n",
      "140   73.4   17.0       12.9\n",
      "37    74.7   49.4       45.7\n",
      "\n",
      "[160 rows x 3 columns]\n",
      "108     5.3\n",
      "107     8.7\n",
      "189     6.7\n",
      "14     19.0\n",
      "56      5.5\n",
      "       ... \n",
      "133    19.6\n",
      "137    20.8\n",
      "72      8.8\n",
      "140    10.9\n",
      "37     14.7\n",
      "Name: sales, Length: 160, dtype: float64\n"
     ]
    },
    {
     "data": {
      "text/plain": [
       "58     23.8\n",
       "40     16.6\n",
       "34      9.5\n",
       "102    14.8\n",
       "184    17.6\n",
       "Name: sales, dtype: float64"
      ]
     },
     "execution_count": 61,
     "metadata": {},
     "output_type": "execute_result"
    }
   ],
   "source": [
    "print(X_train)\n",
    "X_test.head()\n",
    "print(y_train)\n",
    "y_test.head()"
   ]
  },
  {
   "cell_type": "code",
   "execution_count": 62,
   "metadata": {},
   "outputs": [],
   "source": [
    "def train(x, y):\n",
    "    model = LinearRegression().fit(x,y)\n",
    "    return model"
   ]
  },
  {
   "cell_type": "code",
   "execution_count": 63,
   "metadata": {},
   "outputs": [],
   "source": [
    "model = train(X_train, y_train)"
   ]
  },
  {
   "cell_type": "code",
   "execution_count": 64,
   "metadata": {},
   "outputs": [
    {
     "name": "stdout",
     "output_type": "stream",
     "text": [
      "2.907947020816433 [0.0468431  0.17854434 0.00258619]\n"
     ]
    }
   ],
   "source": [
    "# return interecept and coefficient\n",
    "print(model.intercept_, model.coef_)  "
   ]
  },
  {
   "cell_type": "code",
   "execution_count": 65,
   "metadata": {},
   "outputs": [],
   "source": [
    "y_pred = model.predict(X_test)  "
   ]
  },
  {
   "cell_type": "code",
   "execution_count": 66,
   "metadata": {},
   "outputs": [
    {
     "data": {
      "text/html": [
       "<div>\n",
       "<style scoped>\n",
       "    .dataframe tbody tr th:only-of-type {\n",
       "        vertical-align: middle;\n",
       "    }\n",
       "\n",
       "    .dataframe tbody tr th {\n",
       "        vertical-align: top;\n",
       "    }\n",
       "\n",
       "    .dataframe thead th {\n",
       "        text-align: right;\n",
       "    }\n",
       "</style>\n",
       "<table border=\"1\" class=\"dataframe\">\n",
       "  <thead>\n",
       "    <tr style=\"text-align: right;\">\n",
       "      <th></th>\n",
       "      <th>Actual</th>\n",
       "      <th>Predicted</th>\n",
       "    </tr>\n",
       "  </thead>\n",
       "  <tbody>\n",
       "    <tr>\n",
       "      <td>58</td>\n",
       "      <td>23.8</td>\n",
       "      <td>21.735772</td>\n",
       "    </tr>\n",
       "    <tr>\n",
       "      <td>40</td>\n",
       "      <td>16.6</td>\n",
       "      <td>16.456938</td>\n",
       "    </tr>\n",
       "    <tr>\n",
       "      <td>34</td>\n",
       "      <td>9.5</td>\n",
       "      <td>7.659932</td>\n",
       "    </tr>\n",
       "    <tr>\n",
       "      <td>102</td>\n",
       "      <td>14.8</td>\n",
       "      <td>17.892027</td>\n",
       "    </tr>\n",
       "    <tr>\n",
       "      <td>184</td>\n",
       "      <td>17.6</td>\n",
       "      <td>18.677307</td>\n",
       "    </tr>\n",
       "  </tbody>\n",
       "</table>\n",
       "</div>"
      ],
      "text/plain": [
       "     Actual  Predicted\n",
       "58     23.8  21.735772\n",
       "40     16.6  16.456938\n",
       "34      9.5   7.659932\n",
       "102    14.8  17.892027\n",
       "184    17.6  18.677307"
      ]
     },
     "execution_count": 66,
     "metadata": {},
     "output_type": "execute_result"
    }
   ],
   "source": [
    "df = pd.DataFrame({'Actual': y_test, 'Predicted': y_pred})  \n",
    "df.head()"
   ]
  },
  {
   "cell_type": "code",
   "execution_count": 67,
   "metadata": {},
   "outputs": [
    {
     "name": "stdout",
     "output_type": "stream",
     "text": [
      "Mean Absolute Error: 1.0402154012924718\n",
      "Mean Squared Error: 1.9918855518287906\n",
      "Root Mean Squared Error: 1.4113417558581587\n"
     ]
    }
   ],
   "source": [
    "print('Mean Absolute Error:', metrics.mean_absolute_error(y_test, y_pred))  \n",
    "print('Mean Squared Error:', metrics.mean_squared_error(y_test, y_pred))  \n",
    "print('Root Mean Squared Error:', np.sqrt(metrics.mean_squared_error(y_test, y_pred))) "
   ]
  },
  {
   "cell_type": "code",
   "execution_count": 68,
   "metadata": {},
   "outputs": [
    {
     "data": {
      "image/png": "[encoded data removed]",
      "text/plain": [
       "<Figure size 432x288 with 1 Axes>"
      ]
     },
     "metadata": {
      "needs_background": "light"
     },
     "output_type": "display_data"
    }
   ],
   "source": [
    "df.plot(x='Predicted', y='Actual', style='o')  \n",
    "plt.title('Predicted vs Actual values')  \n",
    "plt.xlabel('Predicted')  \n",
    "plt.ylabel('Actual')  \n",
    "plt.show() "
   ]
  }
 ],
 "metadata": {
  "kernelspec": {
   "display_name": "Python 3",
   "language": "python",
   "name": "python3"
  },
  "language_info": {
   "codemirror_mode": {
    "name": "ipython",
    "version": 3
   },
   "file_extension": ".py",
   "mimetype": "text/x-python",
   "name": "python",
   "nbconvert_exporter": "python",
   "pygments_lexer": "ipython3",
   "version": "3.7.1"
  }
 },
 "nbformat": 4,
 "nbformat_minor": 2
}
